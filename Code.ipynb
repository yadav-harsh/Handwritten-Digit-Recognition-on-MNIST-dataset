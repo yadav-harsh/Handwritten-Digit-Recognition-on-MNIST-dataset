{
  "nbformat": 4,
  "nbformat_minor": 0,
  "metadata": {
    "colab": {
      "provenance": [],
      "authorship_tag": "ABX9TyNiO5l5lG8s58f/O5569cBf",
      "include_colab_link": true
    },
    "kernelspec": {
      "name": "python3",
      "display_name": "Python 3"
    },
    "language_info": {
      "name": "python"
    }
  },
  "cells": [
    {
      "cell_type": "markdown",
      "metadata": {
        "id": "view-in-github",
        "colab_type": "text"
      },
      "source": [
        "<a href=\"https://colab.research.google.com/github/yadav-harsh/Handwritten-Digit-Recognition-on-MNIST-dataset/blob/main/Code.ipynb\" target=\"_parent\"><img src=\"https://colab.research.google.com/assets/colab-badge.svg\" alt=\"Open In Colab\"/></a>"
      ]
    },
    {
      "cell_type": "code",
      "execution_count": null,
      "metadata": {
        "id": "uLxlbaRQVdSo"
      },
      "outputs": [],
      "source": [
        "import numpy as np\n",
        "import matplotlib.pyplot as plt\n",
        "import keras\n",
        "from keras.datasets import mnist\n",
        "from keras import Sequential\n",
        "from keras.layers import Conv2D\n",
        "from keras.layers import MaxPool2D\n",
        "from keras.layers import Dense\n",
        "from keras.layers import Flatten\n",
        "from keras.layers import Dropout\n",
        "from keras.utils import plot_model\n",
        "from numpy import unique, argmax"
      ]
    },
    {
      "cell_type": "code",
      "source": [
        "# Loading Dataset\n",
        "\n",
        "(x_train, y_train), (x_test, y_test) = mnist.load_data()\n",
        "\n",
        "x_train.shape, y_train.shape, x_test.shape, y_test.shape"
      ],
      "metadata": {
        "colab": {
          "base_uri": "https://localhost:8080/"
        },
        "id": "4_UK3q5LVhta",
        "outputId": "89836595-8e72-4d41-cc05-989339cd3695"
      },
      "execution_count": null,
      "outputs": [
        {
          "output_type": "execute_result",
          "data": {
            "text/plain": [
              "((60000, 28, 28), (60000,), (10000, 28, 28), (10000,))"
            ]
          },
          "metadata": {},
          "execution_count": 2
        }
      ]
    },
    {
      "cell_type": "code",
      "source": [
        "# Visualisation before normalisation of data\n",
        "\n",
        "plt.imshow(x_train[0],cmap='gray')\n",
        "plt.title(y_train[0])\n",
        "plt.show()\n",
        "    "
      ],
      "metadata": {
        "colab": {
          "base_uri": "https://localhost:8080/",
          "height": 281
        },
        "id": "XzPGT7pvVjXm",
        "outputId": "4bf8f92d-dec8-4eb2-9bb8-f10f15e7ecf6"
      },
      "execution_count": null,
      "outputs": [
        {
          "output_type": "display_data",
          "data": {
            "text/plain": [
              "<Figure size 432x288 with 1 Axes>"
            ],
            "image/png": "[encoded data removed]"
          },
          "metadata": {
            "needs_background": "light"
          }
        }
      ]
    },
    {
      "cell_type": "code",
      "source": [
        "# Reshaping Training and Testing data\n",
        "\n",
        "x_train = x_train.reshape((x_train.shape[0], x_train.shape[1], x_train.shape[2],1))\n",
        "x_test = x_test.reshape((x_test.shape[0], x_test.shape[1], x_test.shape[2],1))\n",
        "\n",
        "x_train.shape, x_test.shape"
      ],
      "metadata": {
        "colab": {
          "base_uri": "https://localhost:8080/"
        },
        "id": "wgb6XuIjVlWZ",
        "outputId": "05298d08-9b16-4b04-b84f-fd5631c6dfd7"
      },
      "execution_count": null,
      "outputs": [
        {
          "output_type": "execute_result",
          "data": {
            "text/plain": [
              "((60000, 28, 28, 1), (10000, 28, 28, 1))"
            ]
          },
          "metadata": {},
          "execution_count": 4
        }
      ]
    },
    {
      "cell_type": "code",
      "source": [
        "# Normalization of the image pixal\n",
        "x_train = x_train.astype('float32')/255.0\n",
        "x_test = x_test.astype('float32')/255.0"
      ],
      "metadata": {
        "id": "hXnnFRT5VnCl"
      },
      "execution_count": null,
      "outputs": []
    },
    {
      "cell_type": "code",
      "source": [
        "# Defining of Model\n",
        "\n",
        "model = Sequential()\n",
        "model.add(Conv2D(32, (3,3), activation='relu', input_shape = x_train.shape[1:]))\n",
        "model.add(MaxPool2D((2,2))) \n",
        "model.add(Conv2D(64, (3,3), activation='relu'))\n",
        "model.add(MaxPool2D((2,2)))\n",
        "model.add(Dropout(0.25))\n",
        "model.add(Flatten())\n",
        "model.add(Dense(10, activation='softmax'))"
      ],
      "metadata": {
        "id": "Hqy_5AwpVqAs"
      },
      "execution_count": null,
      "outputs": []
    },
    {
      "cell_type": "code",
      "source": [
        "model.summary()\n"
      ],
      "metadata": {
        "colab": {
          "base_uri": "https://localhost:8080/"
        },
        "id": "UVU9bUNsWEep",
        "outputId": "2e151aa6-9bd7-486b-fba7-056757c2cec1"
      },
      "execution_count": null,
      "outputs": [
        {
          "output_type": "stream",
          "name": "stdout",
          "text": [
            "Model: \"sequential\"\n",
            "_________________________________________________________________\n",
            " Layer (type)                Output Shape              Param #   \n",
            "=================================================================\n",
            " conv2d (Conv2D)             (None, 26, 26, 32)        320       \n",
            "                                                                 \n",
            " max_pooling2d (MaxPooling2D  (None, 13, 13, 32)       0         \n",
            " )                                                               \n",
            "                                                                 \n",
            " conv2d_1 (Conv2D)           (None, 11, 11, 64)        18496     \n",
            "                                                                 \n",
            " max_pooling2d_1 (MaxPooling  (None, 5, 5, 64)         0         \n",
            " 2D)                                                             \n",
            "                                                                 \n",
            " dropout (Dropout)           (None, 5, 5, 64)          0         \n",
            "                                                                 \n",
            " flatten (Flatten)           (None, 1600)              0         \n",
            "                                                                 \n",
            " dense (Dense)               (None, 10)                16010     \n",
            "                                                                 \n",
            "=================================================================\n",
            "Total params: 34,826\n",
            "Trainable params: 34,826\n",
            "Non-trainable params: 0\n",
            "_________________________________________________________________\n"
          ]
        }
      ]
    },
    {
      "cell_type": "code",
      "source": [
        "# Compiling the Model\n",
        "model.compile(optimizer='adam', loss='sparse_categorical_crossentropy', metrics=['accuracy'])\n",
        "x= model.fit(x_train, y_train, epochs=10, batch_size=128, verbose=2, validation_split=0.1)"
      ],
      "metadata": {
        "colab": {
          "base_uri": "https://localhost:8080/"
        },
        "id": "bAV3HF5ocVKe",
        "outputId": "f695fa74-3d8c-4051-9cce-bca3efd92c18"
      },
      "execution_count": null,
      "outputs": [
        {
          "output_type": "stream",
          "name": "stdout",
          "text": [
            "Epoch 1/10\n",
            "422/422 - 52s - loss: 0.3228 - accuracy: 0.9071 - val_loss: 0.0861 - val_accuracy: 0.9748 - 52s/epoch - 123ms/step\n",
            "Epoch 2/10\n",
            "422/422 - 38s - loss: 0.0911 - accuracy: 0.9719 - val_loss: 0.0550 - val_accuracy: 0.9842 - 38s/epoch - 89ms/step\n",
            "Epoch 3/10\n",
            "422/422 - 38s - loss: 0.0671 - accuracy: 0.9794 - val_loss: 0.0418 - val_accuracy: 0.9890 - 38s/epoch - 90ms/step\n",
            "Epoch 4/10\n",
            "422/422 - 38s - loss: 0.0548 - accuracy: 0.9827 - val_loss: 0.0414 - val_accuracy: 0.9890 - 38s/epoch - 89ms/step\n",
            "Epoch 5/10\n",
            "422/422 - 38s - loss: 0.0479 - accuracy: 0.9852 - val_loss: 0.0412 - val_accuracy: 0.9890 - 38s/epoch - 91ms/step\n",
            "Epoch 6/10\n",
            "422/422 - 39s - loss: 0.0425 - accuracy: 0.9865 - val_loss: 0.0350 - val_accuracy: 0.9900 - 39s/epoch - 92ms/step\n",
            "Epoch 7/10\n",
            "422/422 - 38s - loss: 0.0388 - accuracy: 0.9874 - val_loss: 0.0354 - val_accuracy: 0.9895 - 38s/epoch - 89ms/step\n",
            "Epoch 8/10\n",
            "422/422 - 38s - loss: 0.0341 - accuracy: 0.9894 - val_loss: 0.0367 - val_accuracy: 0.9900 - 38s/epoch - 90ms/step\n",
            "Epoch 9/10\n",
            "422/422 - 38s - loss: 0.0310 - accuracy: 0.9902 - val_loss: 0.0296 - val_accuracy: 0.9928 - 38s/epoch - 90ms/step\n",
            "Epoch 10/10\n",
            "422/422 - 38s - loss: 0.0286 - accuracy: 0.9910 - val_loss: 0.0304 - val_accuracy: 0.9918 - 38s/epoch - 90ms/step\n"
          ]
        }
      ]
    },
    {
      "cell_type": "code",
      "source": [
        "loss, accuracy = model.evaluate(x_test, y_test, verbose=0)\n",
        "print(f'Accuracy: {accuracy*100}')"
      ],
      "metadata": {
        "colab": {
          "base_uri": "https://localhost:8080/"
        },
        "id": "rLqKtvs5cWyV",
        "outputId": "45d56a12-4364-497b-f2b3-2a6e1bf0e130"
      },
      "execution_count": null,
      "outputs": [
        {
          "output_type": "stream",
          "name": "stdout",
          "text": [
            "Accuracy: 98.9799976348877\n"
          ]
        }
      ]
    },
    {
      "cell_type": "code",
      "source": [
        "# Example\n",
        "image = x_train[15]\n",
        "plt.imshow(np.squeeze(image), cmap='gray')\n",
        "plt.show()"
      ],
      "metadata": {
        "colab": {
          "base_uri": "https://localhost:8080/",
          "height": 265
        },
        "id": "LBcu9ukWwSiL",
        "outputId": "ecea22ad-8ad8-4bf2-cf60-6238928d99e7"
      },
      "execution_count": null,
      "outputs": [
        {
          "output_type": "display_data",
          "data": {
            "text/plain": [
              "<Figure size 432x288 with 1 Axes>"
            ],
            "image/png": "[encoded data removed]"
          },
          "metadata": {
            "needs_background": "light"
          }
        }
      ]
    },
    {
      "cell_type": "code",
      "source": [
        "image = image.reshape(1, image.shape[0], image.shape[1], image.shape[2])\n",
        "p = model.predict([image])\n",
        "print('Predicted: {}'.format(argmax(p)))"
      ],
      "metadata": {
        "colab": {
          "base_uri": "https://localhost:8080/"
        },
        "id": "JL1VPyaLwruG",
        "outputId": "e56029ef-fc65-44c4-ae53-a24c9c61cf7f"
      },
      "execution_count": null,
      "outputs": [
        {
          "output_type": "stream",
          "name": "stdout",
          "text": [
            "1/1 [==============================] - 0s 89ms/step\n",
            "Predicted: 7\n"
          ]
        }
      ]
    }
  ]
}